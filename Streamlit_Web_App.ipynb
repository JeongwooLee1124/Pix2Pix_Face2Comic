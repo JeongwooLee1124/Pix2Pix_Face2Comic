{
  "nbformat": 4,
  "nbformat_minor": 0,
  "metadata": {
    "colab": {
      "name": "Streamlit Web App.ipynb",
      "provenance": [],
      "machine_shape": "hm"
    },
    "kernelspec": {
      "name": "python3",
      "display_name": "Python 3"
    },
    "language_info": {
      "name": "python"
    },
    "accelerator": "GPU"
  },
  "cells": [
    {
      "cell_type": "code",
      "metadata": {
        "colab": {
          "base_uri": "https://localhost:8080/"
        },
        "id": "r4x6KzWGPd3l",
        "outputId": "7af6b738-ef7b-4c2e-eff3-dd25c6340642"
      },
      "source": [
        "# 구글 드라이브 연동\n",
        "from google.colab import drive\n",
        "drive.mount('/content/drive')"
      ],
      "execution_count": 1,
      "outputs": [
        {
          "output_type": "stream",
          "text": [
            "Mounted at /content/drive\n"
          ],
          "name": "stdout"
        }
      ]
    },
    {
      "cell_type": "code",
      "metadata": {
        "id": "9SMOVsPOO8qR",
        "colab": {
          "base_uri": "https://localhost:8080/"
        },
        "outputId": "e5896031-da0f-426a-89f1-a20a1ab88c2c"
      },
      "source": [
        "!pip -q install streamlit\n",
        "!pip install pyngrok"
      ],
      "execution_count": 2,
      "outputs": [
        {
          "output_type": "stream",
          "text": [
            "\u001b[K     |████████████████████████████████| 8.0 MB 8.6 MB/s \n",
            "\u001b[K     |████████████████████████████████| 111 kB 69.7 MB/s \n",
            "\u001b[K     |████████████████████████████████| 170 kB 70.9 MB/s \n",
            "\u001b[K     |████████████████████████████████| 4.2 MB 80.1 MB/s \n",
            "\u001b[K     |████████████████████████████████| 75 kB 4.3 MB/s \n",
            "\u001b[K     |████████████████████████████████| 63 kB 2.0 MB/s \n",
            "\u001b[K     |████████████████████████████████| 122 kB 78.6 MB/s \n",
            "\u001b[K     |████████████████████████████████| 786 kB 61.8 MB/s \n",
            "\u001b[K     |████████████████████████████████| 368 kB 74.3 MB/s \n",
            "\u001b[?25h  Building wheel for blinker (setup.py) ... \u001b[?25l\u001b[?25hdone\n",
            "\u001b[31mERROR: pip's dependency resolver does not currently take into account all the packages that are installed. This behaviour is the source of the following dependency conflicts.\n",
            "jupyter-console 5.2.0 requires prompt-toolkit<2.0.0,>=1.0.0, but you have prompt-toolkit 3.0.19 which is incompatible.\n",
            "google-colab 1.0.0 requires ipykernel~=4.10, but you have ipykernel 6.0.3 which is incompatible.\n",
            "google-colab 1.0.0 requires ipython~=5.5.0, but you have ipython 7.26.0 which is incompatible.\u001b[0m\n",
            "Collecting pyngrok\n",
            "  Downloading pyngrok-5.0.6.tar.gz (746 kB)\n",
            "\u001b[K     |████████████████████████████████| 746 kB 9.1 MB/s \n",
            "\u001b[?25hRequirement already satisfied: PyYAML in /usr/local/lib/python3.7/dist-packages (from pyngrok) (3.13)\n",
            "Building wheels for collected packages: pyngrok\n",
            "  Building wheel for pyngrok (setup.py) ... \u001b[?25l\u001b[?25hdone\n",
            "  Created wheel for pyngrok: filename=pyngrok-5.0.6-py3-none-any.whl size=19263 sha256=c9d06d26e8e53b5d4ff16f868f149d2ebf9510a0ea8b9e5bb2fa956708e2cdf8\n",
            "  Stored in directory: /root/.cache/pip/wheels/d5/8c/c4/8d9cbca4fa19bf64887b4a91914194bb9033f1a7cbb344d5ab\n",
            "Successfully built pyngrok\n",
            "Installing collected packages: pyngrok\n",
            "Successfully installed pyngrok-5.0.6\n"
          ],
          "name": "stdout"
        }
      ]
    },
    {
      "cell_type": "code",
      "metadata": {
        "colab": {
          "base_uri": "https://localhost:8080/"
        },
        "id": "5unme1x1OoIk",
        "outputId": "4dbf2a67-38ac-4af3-86aa-e4f783f844bc"
      },
      "source": [
        "%%writefile app.py\n",
        "import cv2\n",
        "from tensorflow.keras.models import load_model\n",
        "import streamlit as st\n",
        "from keras.preprocessing.image import load_img\n",
        "import tensorflow as tf\n",
        "import numpy as np\n",
        "from tempfile import NamedTemporaryFile\n",
        "from PIL import Image\n",
        "import matplotlib.pyplot as plt\n",
        "\n",
        "\n",
        "@st.cache(allow_output_mutation=True)\n",
        "def load():\n",
        "    return load_model('/content/drive/My Drive/pix2pix_model.h5')\n",
        "\n",
        "def load_input(image_file1):\n",
        "  input_image= tf.io.read_file(image_file1)\n",
        "  input_image= tf.image.decode_jpeg(input_image)\n",
        "  input_image = tf.cast(input_image, tf.float32)\n",
        "  return input_image# real_image\n",
        "\n",
        "def resize(input_image, height, width):\n",
        "  input_image = tf.image.resize(input_image, [height, width],\n",
        "                                method=tf.image.ResizeMethod.NEAREST_NEIGHBOR)\n",
        "  return input_image\n",
        "\n",
        "def normalize(input_image):\n",
        "  input_image = (input_image / 127.5) - 1\n",
        "  return input_image\n",
        "\n",
        "def load_image_train(image_file1):\n",
        "  img = tf.keras.preprocessing.image.array_to_img(image_file1)\n",
        "  array = tf.keras.preprocessing.image.img_to_array(img)\n",
        "  input_image = normalize(array)\n",
        "  return input_image\n",
        "\n",
        "def generate_images(model, test_input, tar):\n",
        "  prediction = model(test_input, training=True)\n",
        "  return prediction[0]\n",
        "\n",
        "def main():\n",
        "\n",
        "  st.write(\"\"\"\n",
        "  # Face2Comic with Pix2Pix  \n",
        "  \"\"\")\n",
        "  st.write(\"\"\"\n",
        "  # 내 얼굴을 미국 만화 캐릭터로~ \n",
        "  \"\"\")\n",
        "\n",
        "  uploaded_file = st.file_uploader(\"Choose an image...\", type=\"jpg\")\n",
        "  if uploaded_file is not None:\n",
        "      image = Image.open(uploaded_file)\n",
        "      st.image(image, caption='Uploaded Image.', use_column_width=True)\n",
        "      st.write(\"\")\n",
        "      st.write(\"Converting...\")\n",
        "      input_image = load_image_train(image)\n",
        "      input_image=resize(input_image,512,512)\n",
        "      input_image=input_image[:,:,:3]\n",
        "      model = load()\n",
        "      prediction = generate_images(model,input_image[tf.newaxis, ...],input_image[tf.newaxis, ...])\n",
        "      image = (np.array(prediction)+1)*127.5\n",
        "      image = image.astype(np.uint8)\n",
        "      image = Image.fromarray(image)\n",
        "      st.image(image, caption='Predicted Image.', use_column_width=True)\n",
        "\n",
        "if __name__ == '__main__':\n",
        "\tmain()"
      ],
      "execution_count": 3,
      "outputs": [
        {
          "output_type": "stream",
          "text": [
            "Writing app.py\n"
          ],
          "name": "stdout"
        }
      ]
    },
    {
      "cell_type": "code",
      "metadata": {
        "colab": {
          "base_uri": "https://localhost:8080/"
        },
        "id": "7wFEBSlxOyjW",
        "outputId": "e560bc57-6cba-486a-abc7-1d8cc4868f56"
      },
      "source": [
        "!ls"
      ],
      "execution_count": 4,
      "outputs": [
        {
          "output_type": "stream",
          "text": [
            "app.py\tdrive  sample_data\n"
          ],
          "name": "stdout"
        }
      ]
    },
    {
      "cell_type": "code",
      "metadata": {
        "colab": {
          "base_uri": "https://localhost:8080/"
        },
        "id": "tVIpo_rdW19u",
        "outputId": "942f999c-c706-402c-9fa9-31030a348fbb"
      },
      "source": [
        "!ngrok authtoken 1wbrb36Sn8uyrAALbesmlvQy3lY_5QaBYPgTxN6ojrRyKe1TZ"
      ],
      "execution_count": 5,
      "outputs": [
        {
          "output_type": "stream",
          "text": [
            "Authtoken saved to configuration file: /root/.ngrok2/ngrok.yml\n"
          ],
          "name": "stdout"
        }
      ]
    },
    {
      "cell_type": "code",
      "metadata": {
        "id": "NcHGHDgTXYI1"
      },
      "source": [
        "from pyngrok import ngrok"
      ],
      "execution_count": 6,
      "outputs": []
    },
    {
      "cell_type": "code",
      "metadata": {
        "id": "Cp94hXVjXeGN"
      },
      "source": [
        "!streamlit run app.py&>/dev/null&"
      ],
      "execution_count": 7,
      "outputs": []
    },
    {
      "cell_type": "code",
      "metadata": {
        "id": "kv2t-gI2XkRP"
      },
      "source": [
        "publ_url = ngrok.connect('8501')"
      ],
      "execution_count": 8,
      "outputs": []
    },
    {
      "cell_type": "code",
      "metadata": {
        "colab": {
          "base_uri": "https://localhost:8080/"
        },
        "id": "Ct2sNkxVXov2",
        "outputId": "d1a49157-eb4b-4c48-c5a0-d566eaa16300"
      },
      "source": [
        "publ_url"
      ],
      "execution_count": 9,
      "outputs": [
        {
          "output_type": "execute_result",
          "data": {
            "text/plain": [
              "<NgrokTunnel: \"http://0560844b5146.ngrok.io\" -> \"http://localhost:8501\">"
            ]
          },
          "metadata": {
            "tags": []
          },
          "execution_count": 9
        }
      ]
    },
    {
      "cell_type": "code",
      "metadata": {
        "id": "Zbc0357_X2nu",
        "colab": {
          "base_uri": "https://localhost:8080/"
        },
        "outputId": "16d7f94f-e05e-4e29-f7ce-cbd3401b0e21"
      },
      "source": [
        "!ps"
      ],
      "execution_count": 10,
      "outputs": [
        {
          "output_type": "stream",
          "text": [
            "    PID TTY          TIME CMD\n",
            "      1 ?        00:00:01 node\n",
            "     18 ?        00:00:00 tail\n",
            "     64 ?        00:00:00 jupyter-noteboo\n",
            "     65 ?        00:00:00 dap_multiplexer\n",
            "     77 ?        00:00:02 python3\n",
            "     99 ?        00:00:00 python3\n",
            "    132 ?        00:00:00 bash\n",
            "    133 ?        00:00:00 drive\n",
            "    134 ?        00:00:00 grep\n",
            "    252 ?        00:00:00 drive\n",
            "    326 ?        00:00:00 bash\n",
            "    327 ?        00:00:00 tail\n",
            "    328 ?        00:00:00 python3\n",
            "    383 ?        00:00:00 streamlit\n",
            "    386 ?        00:00:00 ngrok\n",
            "    400 ?        00:00:00 ps\n"
          ],
          "name": "stdout"
        }
      ]
    },
    {
      "cell_type": "code",
      "metadata": {
        "id": "74phDWyYZfLH"
      },
      "source": [
        "# !kill 3657 3725 3771 \n",
        "# ngrok.kill()"
      ],
      "execution_count": 11,
      "outputs": []
    },
    {
      "cell_type": "code",
      "metadata": {
        "colab": {
          "base_uri": "https://localhost:8080/"
        },
        "id": "fZclMbGJZl6m",
        "outputId": "81d7ad56-817d-4251-f40b-963af8d18ec2"
      },
      "source": [
        "!ps"
      ],
      "execution_count": 12,
      "outputs": [
        {
          "output_type": "stream",
          "text": [
            "    PID TTY          TIME CMD\n",
            "      1 ?        00:00:01 node\n",
            "     18 ?        00:00:00 tail\n",
            "     64 ?        00:00:00 jupyter-noteboo\n",
            "     65 ?        00:00:00 dap_multiplexer\n",
            "     77 ?        00:00:02 python3\n",
            "     99 ?        00:00:00 python3\n",
            "    132 ?        00:00:00 bash\n",
            "    133 ?        00:00:00 drive\n",
            "    134 ?        00:00:00 grep\n",
            "    252 ?        00:00:00 drive\n",
            "    326 ?        00:00:00 bash\n",
            "    327 ?        00:00:00 tail\n",
            "    328 ?        00:00:00 python3\n",
            "    383 ?        00:00:00 streamlit\n",
            "    386 ?        00:00:00 ngrok\n",
            "    401 ?        00:00:00 ps\n"
          ],
          "name": "stdout"
        }
      ]
    },
    {
      "cell_type": "code",
      "metadata": {
        "id": "iNfNHSdrr4lq"
      },
      "source": [
        ""
      ],
      "execution_count": 12,
      "outputs": []
    }
  ]
}